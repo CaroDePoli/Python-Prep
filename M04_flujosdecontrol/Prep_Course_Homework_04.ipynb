{
 "cells": [
  {
   "attachments": {},
   "cell_type": "markdown",
   "metadata": {},
   "source": [
    "## Flujos de Control"
   ]
  },
  {
   "attachments": {},
   "cell_type": "markdown",
   "metadata": {},
   "source": [
    "1) Crear una variable que contenga un elemento del conjunto de números enteros y luego imprimir por pantalla si es mayor o menor a cero"
   ]
  },
  {
   "cell_type": "code",
   "execution_count": 10,
   "metadata": {},
   "outputs": [
    {
     "name": "stdout",
     "output_type": "stream",
     "text": [
      "La variable  -1  es menor que 0\n"
     ]
    }
   ],
   "source": [
    "var_1 = -1\n",
    "if var_1 < 0:\n",
    "    print ('La variable ', str(var_1), ' es menor que 0')\n",
    "elif var_1 > 0:\n",
    "    print ('la variable ',  str(var_1), 'es mayor que 0')\n",
    "else:\n",
    "    print ('La variable es igual a 0')"
   ]
  },
  {
   "cell_type": "code",
   "execution_count": 47,
   "metadata": {},
   "outputs": [
    {
     "name": "stdout",
     "output_type": "stream",
     "text": [
      "variables 0.5 y 1 son distintas\n"
     ]
    }
   ],
   "source": [
    "var_2 = 0.5\n",
    "var_3 = 1\n",
    "if type (var_2) == type(var_3):\n",
    "    if type (var_2) != int and type (var_3) != int:\n",
    "        print('Las variables no son numeros enteros')\n",
    "    elif var_2 < 0 and var_3 < 0:\n",
    "        print(f'Las variables {var_2} y {var_3} son menores que 0')\n",
    "    elif var_2 > 0 and var_3 > 0:\n",
    "        print(f'Las variables {var_2} y {var_3} son mayores que 0')\n",
    "    elif var_2 >0 and var_3 < 0:\n",
    "        print(f'Las variable {var_2} es mayor que 0 y la variable {var_3} es menores que 0')\n",
    "    elif var_2< 0 and var_3 > 0:\n",
    "        print(f'Las variable {var_2} es menor que 0 y la variable {var_3} es mayor que 0')\n",
    "    else:\n",
    "        print('Las variables son iguales a 0')\n",
    "else:\n",
    "    print(f'variables {var_2} y {var_3} son distintas')\n",
    "    \n",
    "# debería poner más condicionales para que funcione el if de tipo de numero distinto de entero seguiré provando opciones"
   ]
  },
  {
   "attachments": {},
   "cell_type": "markdown",
   "metadata": {},
   "source": [
    "2) Crear dos variables y un condicional que informe si son del mismo tipo de dato"
   ]
  },
  {
   "cell_type": "code",
   "execution_count": 53,
   "metadata": {},
   "outputs": [
    {
     "name": "stdout",
     "output_type": "stream",
     "text": [
      "<class 'int'> <class 'int'>\n",
      "Las variables 10 y 20 son el mismo tipo de dato\n"
     ]
    }
   ],
   "source": [
    "a= 10\n",
    "b= 20\n",
    "print(type(a), type(b))\n",
    "if type(a) == type(b):\n",
    "    print(f'Las variables {a} y {b} son el mismo tipo de dato')\n",
    "else:\n",
    "    print('Las variables son distintos dipos de datos')"
   ]
  },
  {
   "attachments": {},
   "cell_type": "markdown",
   "metadata": {},
   "source": [
    "3) Para los valores enteros del 1 al 20, imprimir por pantalla si es par o impar"
   ]
  },
  {
   "cell_type": "code",
   "execution_count": 54,
   "metadata": {},
   "outputs": [
    {
     "name": "stdout",
     "output_type": "stream",
     "text": [
      "el numero 1 es impar\n",
      "El numero 2 es par\n",
      "el numero 3 es impar\n",
      "El numero 4 es par\n",
      "el numero 5 es impar\n",
      "El numero 6 es par\n",
      "el numero 7 es impar\n",
      "El numero 8 es par\n",
      "el numero 9 es impar\n",
      "El numero 10 es par\n",
      "el numero 11 es impar\n",
      "El numero 12 es par\n",
      "el numero 13 es impar\n",
      "El numero 14 es par\n",
      "el numero 15 es impar\n",
      "El numero 16 es par\n",
      "el numero 17 es impar\n",
      "El numero 18 es par\n",
      "el numero 19 es impar\n",
      "El numero 20 es par\n"
     ]
    }
   ],
   "source": [
    "for numero in range(1,21):\n",
    "    if numero % 2== 0:\n",
    "        print(f'El numero {numero} es par')\n",
    "    else:\n",
    "        print(f'el numero {numero} es impar')"
   ]
  },
  {
   "attachments": {},
   "cell_type": "markdown",
   "metadata": {},
   "source": [
    "4) En un ciclo for mostrar para los valores entre 0 y 5 el resultado de elevarlo a la potencia igual a 3"
   ]
  },
  {
   "cell_type": "code",
   "execution_count": 56,
   "metadata": {},
   "outputs": [
    {
     "name": "stdout",
     "output_type": "stream",
     "text": [
      "el valor de 0 elevado a la potencia 3 es igual a 0\n",
      "el valor de 1 elevado a la potencia 3 es igual a 1\n",
      "el valor de 2 elevado a la potencia 3 es igual a 8\n",
      "el valor de 3 elevado a la potencia 3 es igual a 27\n",
      "el valor de 4 elevado a la potencia 3 es igual a 64\n",
      "el valor de 5 elevado a la potencia 3 es igual a 125\n"
     ]
    }
   ],
   "source": [
    "for valor in range (0,6):\n",
    "    print(f'el valor de {valor} elevado a la potencia 3 es igual a {valor **3}')"
   ]
  },
  {
   "attachments": {},
   "cell_type": "markdown",
   "metadata": {},
   "source": [
    "5) Crear una variable que contenga un número entero y realizar un ciclo for la misma cantidad de ciclos"
   ]
  },
  {
   "cell_type": "code",
   "execution_count": 58,
   "metadata": {},
   "outputs": [
    {
     "name": "stdout",
     "output_type": "stream",
     "text": [
      "8\n"
     ]
    }
   ],
   "source": [
    "var_4= 8\n",
    "for var_4 in range (0,(var_4+1)):\n",
    "    pass\n",
    "print(var_4)"
   ]
  },
  {
   "attachments": {},
   "cell_type": "markdown",
   "metadata": {},
   "source": [
    "6) Utilizar un ciclo while para realizar el factorial de un número guardado en una variable, sólo si la variable contiene un número entero mayor a 0"
   ]
  },
  {
   "cell_type": "code",
   "execution_count": 63,
   "metadata": {},
   "outputs": [
    {
     "name": "stdout",
     "output_type": "stream",
     "text": [
      "El factorial es 120\n"
     ]
    }
   ],
   "source": [
    "var_5= 5\n",
    "if (type (var_5) == int):\n",
    "    if (var_5 > 0):\n",
    "        factorial= var_5\n",
    "        while (var_5 > 2):\n",
    "            var_5= var_5 - 1\n",
    "            factorial= factorial * var_5\n",
    "        print('El factorial es', factorial)\n",
    "    else:\n",
    "        print('La variable no es mayor a cero')\n",
    "else:\n",
    "    print('La variable no es un numero entero')"
   ]
  },
  {
   "attachments": {},
   "cell_type": "markdown",
   "metadata": {},
   "source": [
    "7) Crear un ciclo for dentro de un ciclo while"
   ]
  },
  {
   "cell_type": "code",
   "execution_count": 67,
   "metadata": {},
   "outputs": [
    {
     "name": "stdout",
     "output_type": "stream",
     "text": [
      "Este es el ciclo while numero  1\n",
      "********************\n",
      "Es el ciclo for numero  1\n",
      "Este es el ciclo while numero  2\n",
      "********************\n",
      "Es el ciclo for numero  1\n",
      "Es el ciclo for numero  2\n",
      "Este es el ciclo while numero  3\n",
      "********************\n",
      "Es el ciclo for numero  1\n",
      "Es el ciclo for numero  2\n",
      "Es el ciclo for numero  3\n",
      "Este es el ciclo while numero  4\n",
      "********************\n",
      "Es el ciclo for numero  1\n",
      "Es el ciclo for numero  2\n",
      "Es el ciclo for numero  3\n",
      "Es el ciclo for numero  4\n"
     ]
    }
   ],
   "source": [
    "contador= 1\n",
    "while contador < 5:\n",
    "    print('Este es el ciclo while numero ', str(contador))\n",
    "    print('*'*20)\n",
    "    for i in range(1, contador+1):\n",
    "        print('Es el ciclo for numero ', str(i))\n",
    "    contador += 1"
   ]
  },
  {
   "attachments": {},
   "cell_type": "markdown",
   "metadata": {},
   "source": [
    "8) Crear un ciclo while dentro de un ciclo for"
   ]
  },
  {
   "cell_type": "code",
   "execution_count": 75,
   "metadata": {},
   "outputs": [],
   "source": [
    "n= 4\n",
    "for i in range (1, n):\n",
    "    while (n <4):\n",
    "        n -=1\n",
    "        print(f'este es el ciclo while {n}, dentro del ciclo for {i}')\n",
    "        "
   ]
  },
  {
   "attachments": {},
   "cell_type": "markdown",
   "metadata": {},
   "source": [
    "9) Imprimir los números primos existentes entre 0 y 30"
   ]
  },
  {
   "cell_type": "code",
   "execution_count": 79,
   "metadata": {},
   "outputs": [
    {
     "name": "stdout",
     "output_type": "stream",
     "text": [
      "1 es un numero primo\n",
      "2 es un numero primo\n",
      "3 es un numero primo\n",
      "5 es un numero primo\n",
      "7 es un numero primo\n",
      "11 es un numero primo\n",
      "13 es un numero primo\n",
      "17 es un numero primo\n",
      "19 es un numero primo\n",
      "23 es un numero primo\n",
      "29 es un numero primo\n"
     ]
    }
   ],
   "source": [
    "for primo in range (1,31):\n",
    "    for numero in range (2,primo):\n",
    "        if primo %numero == 0:\n",
    "            break\n",
    "    else:\n",
    "        print(primo, 'es un numero primo')"
   ]
  },
  {
   "cell_type": "code",
   "execution_count": 78,
   "metadata": {},
   "outputs": [
    {
     "name": "stdout",
     "output_type": "stream",
     "text": [
      "0\n",
      "1\n",
      "2\n",
      "3\n",
      "5\n",
      "7\n",
      "11\n",
      "13\n",
      "17\n",
      "19\n",
      "23\n",
      "29\n"
     ]
    }
   ],
   "source": [
    "tope_maximo= 30\n",
    "n= 0\n",
    "primo= True\n",
    "while (n< tope_maximo):\n",
    "    for div in range (2,n):\n",
    "        if (n% div ==0):\n",
    "            primo= False\n",
    "            \n",
    "    if(primo):\n",
    "        print(n)\n",
    "    else:\n",
    "        primo=True\n",
    "    n+=1"
   ]
  },
  {
   "attachments": {},
   "cell_type": "markdown",
   "metadata": {},
   "source": [
    "10) ¿Se puede mejorar el proceso del punto 9? Utilizar las sentencias break y/ó continue para tal fin"
   ]
  },
  {
   "cell_type": "code",
   "execution_count": 84,
   "metadata": {},
   "outputs": [
    {
     "name": "stdout",
     "output_type": "stream",
     "text": [
      "1 es un numero primo\n",
      "2 es un numero primo\n",
      "3 es un numero primo\n",
      "5 es un numero primo\n",
      "7 es un numero primo\n",
      "11 es un numero primo\n",
      "13 es un numero primo\n",
      "17 es un numero primo\n",
      "19 es un numero primo\n",
      "23 es un numero primo\n",
      "29 es un numero primo\n",
      "cantidad de ciclos con break 135\n"
     ]
    }
   ],
   "source": [
    "ciclos_con_break = 0\n",
    "for primo in range (1,31):\n",
    "    for numero in range (2,primo):\n",
    "        ciclos_con_break +=1\n",
    "        if primo %numero == 0:\n",
    "            break\n",
    "    else:\n",
    "        print(primo, 'es un numero primo')\n",
    "print('cantidad de ciclos con break', str(ciclos_con_break))"
   ]
  },
  {
   "cell_type": "code",
   "execution_count": 95,
   "metadata": {},
   "outputs": [
    {
     "name": "stdout",
     "output_type": "stream",
     "text": [
      "0\n",
      "1\n",
      "2\n",
      "3\n",
      "5\n",
      "7\n",
      "11\n",
      "13\n",
      "17\n",
      "19\n",
      "23\n",
      "29\n",
      "cantidad de ciclos sin break 378\n"
     ]
    }
   ],
   "source": [
    "ciclos_sin_break = 0\n",
    "tope_maximo= 30\n",
    "n= 0\n",
    "primo= True \n",
    "while (n< tope_maximo):\n",
    "    for div in range (2, n):\n",
    "        ciclos_sin_break += 1\n",
    "        if (n% div == 0):\n",
    "            primo= False\n",
    "            \n",
    "    if(primo):\n",
    "        print(n)\n",
    "    else:\n",
    "        primo=True\n",
    "    n+=1\n",
    "print('cantidad de ciclos sin break ' +str(ciclos_sin_break))"
   ]
  },
  {
   "attachments": {},
   "cell_type": "markdown",
   "metadata": {},
   "source": [
    "11) En los puntos 9 y 10, se diseño un código que encuentra números primos y además se lo optimizó. ¿Es posible saber en qué medida se optimizó?"
   ]
  },
  {
   "cell_type": "code",
   "execution_count": 99,
   "metadata": {},
   "outputs": [
    {
     "name": "stdout",
     "output_type": "stream",
     "text": [
      "0\n",
      "1\n",
      "2\n",
      "3\n",
      "5\n",
      "7\n",
      "11\n",
      "13\n",
      "17\n",
      "19\n",
      "23\n",
      "29\n",
      "cantidad de ciclos sin break 378\n",
      "se optimizó en 35.714285714285715 %\n"
     ]
    }
   ],
   "source": [
    "ciclos_sin_break = 0\n",
    "tope_maximo= 30\n",
    "n= 0\n",
    "primo= True \n",
    "while (n< tope_maximo):\n",
    "    for div in range (2, n):\n",
    "        ciclos_sin_break += 1\n",
    "        if (n% div == 0):\n",
    "            primo= False\n",
    "            \n",
    "    if(primo):\n",
    "        print(n)\n",
    "    else:\n",
    "        primo=True\n",
    "    n+=1\n",
    "print('cantidad de ciclos sin break ' +str(ciclos_sin_break))\n",
    "print('se optimizó en ' + str((ciclos_con_break/ciclos_sin_break)*100) ,'%' )"
   ]
  },
  {
   "attachments": {},
   "cell_type": "markdown",
   "metadata": {},
   "source": [
    "12) Aplicando continue, armar un ciclo while que solo imprima los valores divisibles por 12, dentro del rango de números de 100 a 300"
   ]
  },
  {
   "cell_type": "code",
   "execution_count": 100,
   "metadata": {},
   "outputs": [
    {
     "name": "stdout",
     "output_type": "stream",
     "text": [
      "108 es divisible por 12\n",
      "120 es divisible por 12\n",
      "132 es divisible por 12\n",
      "144 es divisible por 12\n",
      "156 es divisible por 12\n",
      "168 es divisible por 12\n",
      "180 es divisible por 12\n",
      "192 es divisible por 12\n",
      "204 es divisible por 12\n",
      "216 es divisible por 12\n",
      "228 es divisible por 12\n",
      "240 es divisible por 12\n",
      "252 es divisible por 12\n",
      "264 es divisible por 12\n",
      "276 es divisible por 12\n",
      "288 es divisible por 12\n",
      "300 es divisible por 12\n"
     ]
    }
   ],
   "source": [
    "n=99\n",
    "while (n <=300):\n",
    "    n += 1\n",
    "    if (n % 12 !=0):\n",
    "        continue\n",
    "    print(n , 'es divisible por 12')\n",
    "        "
   ]
  },
  {
   "attachments": {},
   "cell_type": "markdown",
   "metadata": {},
   "source": [
    "13) Utilizar la función **input()** que permite hacer ingresos por teclado, para encontrar números primos y dar la opción al usario de buscar el siguiente"
   ]
  },
  {
   "cell_type": "code",
   "execution_count": 107,
   "metadata": {},
   "outputs": [
    {
     "name": "stdout",
     "output_type": "stream",
     "text": [
      "1\n",
      "Quiere optener el siguiente numero primo?\n",
      "2\n",
      "Quiere optener el siguiente numero primo?\n",
      "3\n",
      "Quiere optener el siguiente numero primo?\n",
      "5\n",
      "Quiere optener el siguiente numero primo?\n",
      "El proceso finalizó\n"
     ]
    }
   ],
   "source": [
    "n= 1\n",
    "sigo = 1\n",
    "primo = True\n",
    "while(sigo == 1):\n",
    "    for div in range (2 , n):\n",
    "        if (n % div == 0):\n",
    "            primo= False\n",
    "            break\n",
    "    if (primo):\n",
    "        print(n)\n",
    "        print('Quiere optener el siguiente numero primo?')\n",
    "        if (input() != '1'):\n",
    "            print ('El proceso finalizó')\n",
    "            break\n",
    "    else:\n",
    "        primo= True\n",
    "    n += 1"
   ]
  },
  {
   "attachments": {},
   "cell_type": "markdown",
   "metadata": {},
   "source": [
    "14) Crear un ciclo while que encuentre dentro del rango de 100 a 300 el primer número divisible por 3 y además múltiplo de 6"
   ]
  },
  {
   "cell_type": "code",
   "execution_count": 108,
   "metadata": {},
   "outputs": [
    {
     "name": "stdout",
     "output_type": "stream",
     "text": [
      "el numero  102 es divible por 3 y multiplo de 6\n"
     ]
    }
   ],
   "source": [
    "n=100\n",
    "while(n < 300):\n",
    "    if (n %6 ==0):\n",
    "        print('el numero ', str(n) ,'es divible por 3 y multiplo de 6')\n",
    "        break\n",
    "    n +=1"
   ]
  }
 ],
 "metadata": {
  "interpreter": {
   "hash": "c85384e4cb51c8b72350f3a8712cc8351fdc3955e32a27f9b60c6242ab125f01"
  },
  "kernelspec": {
   "display_name": "Python 3 (ipykernel)",
   "language": "python",
   "name": "python3"
  },
  "language_info": {
   "codemirror_mode": {
    "name": "ipython",
    "version": 3
   },
   "file_extension": ".py",
   "mimetype": "text/x-python",
   "name": "python",
   "nbconvert_exporter": "python",
   "pygments_lexer": "ipython3",
   "version": "3.11.9"
  }
 },
 "nbformat": 4,
 "nbformat_minor": 4
}
